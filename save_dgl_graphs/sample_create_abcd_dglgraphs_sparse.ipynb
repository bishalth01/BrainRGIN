{
 "cells": [
  {
   "cell_type": "code",
   "execution_count": 39,
   "metadata": {},
   "outputs": [],
   "source": [
    "import os\n",
    "import sys\n",
    "import torch\n",
    "import torch.nn.functional as F\n",
    "from imports.ABIDEDataset import ABIDEDataset\n",
    "from sklearn.metrics._regression import r2_score\n",
    "import dgl\n"
   ]
  },
  {
   "cell_type": "code",
   "execution_count": 40,
   "metadata": {},
   "outputs": [],
   "source": [
    "dataset = ABIDEDataset(\"data/data/Output\",\"ABCD\")\n",
    "dataset.data.x[dataset.data.x == float('inf')] = 0"
   ]
  },
  {
   "cell_type": "code",
   "execution_count": 41,
   "metadata": {},
   "outputs": [
    {
     "data": {
      "text/plain": [
       "ABCD(8836)"
      ]
     },
     "execution_count": 41,
     "metadata": {},
     "output_type": "execute_result"
    }
   ],
   "source": [
    "dataset"
   ]
  },
  {
   "cell_type": "code",
   "execution_count": 42,
   "metadata": {},
   "outputs": [
    {
     "data": {
      "text/plain": [
       "torch.Size([468308, 53])"
      ]
     },
     "execution_count": 42,
     "metadata": {},
     "output_type": "execute_result"
    }
   ],
   "source": [
    "dataset.data.x.shape"
   ]
  },
  {
   "cell_type": "code",
   "execution_count": 43,
   "metadata": {},
   "outputs": [
    {
     "data": {
      "text/plain": [
       "torch.Size([8836, 53, 53])"
      ]
     },
     "execution_count": 43,
     "metadata": {},
     "output_type": "execute_result"
    }
   ],
   "source": [
    "reshape_dataset = dataset.data.x.reshape(8836, 53, 53)\n",
    "reshape_dataset.shape"
   ]
  },
  {
   "cell_type": "code",
   "execution_count": 44,
   "metadata": {},
   "outputs": [
    {
     "data": {
      "text/plain": [
       "tensor([[ 0.0000,  0.1797,  0.0746,  ..., -0.0875, -0.0709, -0.1091],\n",
       "        [ 0.1797,  0.0000,  0.4158,  ..., -0.2620, -0.1035, -0.1899],\n",
       "        [ 0.0746,  0.4158,  0.0000,  ..., -0.4851, -0.2242, -0.5243],\n",
       "        ...,\n",
       "        [-0.0875, -0.2620, -0.4851,  ...,  0.0000,  0.2448,  0.8426],\n",
       "        [-0.0709, -0.1035, -0.2242,  ...,  0.2448,  0.0000,  0.7434],\n",
       "        [-0.1091, -0.1899, -0.5243,  ...,  0.8426,  0.7434,  0.0000]])"
      ]
     },
     "execution_count": 44,
     "metadata": {},
     "output_type": "execute_result"
    }
   ],
   "source": [
    "reshape_dataset[0]"
   ]
  },
  {
   "cell_type": "code",
   "execution_count": 45,
   "metadata": {},
   "outputs": [
    {
     "data": {
      "text/plain": [
       "tensor([[[1., 0., 0.,  ..., 0., 0., 0.],\n",
       "         [0., 1., 0.,  ..., 0., 0., 0.],\n",
       "         [0., 0., 1.,  ..., 0., 0., 0.],\n",
       "         ...,\n",
       "         [0., 0., 0.,  ..., 1., 0., 0.],\n",
       "         [0., 0., 0.,  ..., 0., 1., 0.],\n",
       "         [0., 0., 0.,  ..., 0., 0., 1.]],\n",
       "\n",
       "        [[1., 0., 0.,  ..., 0., 0., 0.],\n",
       "         [0., 1., 0.,  ..., 0., 0., 0.],\n",
       "         [0., 0., 1.,  ..., 0., 0., 0.],\n",
       "         ...,\n",
       "         [0., 0., 0.,  ..., 1., 0., 0.],\n",
       "         [0., 0., 0.,  ..., 0., 1., 0.],\n",
       "         [0., 0., 0.,  ..., 0., 0., 1.]],\n",
       "\n",
       "        [[1., 0., 0.,  ..., 0., 0., 0.],\n",
       "         [0., 1., 0.,  ..., 0., 0., 0.],\n",
       "         [0., 0., 1.,  ..., 0., 0., 0.],\n",
       "         ...,\n",
       "         [0., 0., 0.,  ..., 1., 0., 0.],\n",
       "         [0., 0., 0.,  ..., 0., 1., 0.],\n",
       "         [0., 0., 0.,  ..., 0., 0., 1.]],\n",
       "\n",
       "        ...,\n",
       "\n",
       "        [[1., 0., 0.,  ..., 0., 0., 0.],\n",
       "         [0., 1., 0.,  ..., 0., 0., 0.],\n",
       "         [0., 0., 1.,  ..., 0., 0., 0.],\n",
       "         ...,\n",
       "         [0., 0., 0.,  ..., 1., 0., 0.],\n",
       "         [0., 0., 0.,  ..., 0., 1., 0.],\n",
       "         [0., 0., 0.,  ..., 0., 0., 1.]],\n",
       "\n",
       "        [[1., 0., 0.,  ..., 0., 0., 0.],\n",
       "         [0., 1., 0.,  ..., 0., 0., 0.],\n",
       "         [0., 0., 1.,  ..., 0., 0., 0.],\n",
       "         ...,\n",
       "         [0., 0., 0.,  ..., 1., 0., 0.],\n",
       "         [0., 0., 0.,  ..., 0., 1., 0.],\n",
       "         [0., 0., 0.,  ..., 0., 0., 1.]],\n",
       "\n",
       "        [[1., 0., 0.,  ..., 0., 0., 0.],\n",
       "         [0., 1., 0.,  ..., 0., 0., 0.],\n",
       "         [0., 0., 1.,  ..., 0., 0., 0.],\n",
       "         ...,\n",
       "         [0., 0., 0.,  ..., 1., 0., 0.],\n",
       "         [0., 0., 0.,  ..., 0., 1., 0.],\n",
       "         [0., 0., 0.,  ..., 0., 0., 1.]]])"
      ]
     },
     "execution_count": 45,
     "metadata": {},
     "output_type": "execute_result"
    }
   ],
   "source": [
    "reshape_pos = dataset.data.pos.reshape(8836, 53, 53)\n",
    "reshape_pos"
   ]
  },
  {
   "cell_type": "code",
   "execution_count": 46,
   "metadata": {},
   "outputs": [
    {
     "data": {
      "text/plain": [
       "Data(x=[468308, 53], edge_index=[2, 24352016], edge_attr=[24352016, 1], y=[8836, 1], pos=[468308, 53])"
      ]
     },
     "execution_count": 46,
     "metadata": {},
     "output_type": "execute_result"
    }
   ],
   "source": [
    "dataset.data"
   ]
  },
  {
   "cell_type": "code",
   "execution_count": 47,
   "metadata": {},
   "outputs": [
    {
     "data": {
      "text/plain": [
       "torch.Size([8836, 53, 53])"
      ]
     },
     "execution_count": 47,
     "metadata": {},
     "output_type": "execute_result"
    }
   ],
   "source": [
    "reshape_dataset.shape"
   ]
  },
  {
   "cell_type": "code",
   "execution_count": 48,
   "metadata": {},
   "outputs": [
    {
     "name": "stdout",
     "output_type": "stream",
     "text": [
      "Data(edge_index=[2, 2809], edge_attr=[2809, 1], num_nodes=53)\n"
     ]
    }
   ],
   "source": [
    "from torch_geometric.data import Data\n",
    "from torch_geometric.utils import add_self_loops\n",
    "\n",
    "\n",
    "def extract_subgraphs(edge_index, edge_attr, num_subjects, num_nodes_per_subject, edges_per_subject):\n",
    "    subgraphs = []\n",
    "    \n",
    "    for subject in range(num_subjects):\n",
    "        start_idx = subject * edges_per_subject\n",
    "        end_idx = start_idx + edges_per_subject\n",
    "        \n",
    "        # Extract the edge index and attributes for the current subject\n",
    "        subject_edge_index = edge_index[:, start_idx:end_idx]\n",
    "        subject_edge_attr = edge_attr[start_idx:end_idx]\n",
    "\n",
    "         # Add self-loops to the edge_index and adjust edge_attr\n",
    "        num_edges = subject_edge_index.size(1)\n",
    "        subject_edge_index, subject_edge_attr = add_self_loops(subject_edge_index, edge_attr=subject_edge_attr, num_nodes=num_nodes_per_subject)\n",
    "        \n",
    "        \n",
    "        # Create a PyG Data object for the subgraph\n",
    "        data = Data(edge_index=subject_edge_index, edge_attr=subject_edge_attr, num_nodes=num_nodes_per_subject)\n",
    "        subgraphs.append(data)\n",
    "    \n",
    "    return subgraphs\n",
    "\n",
    "# Extract subgraphs for each subject\n",
    "num_subjects = 8836\n",
    "num_nodes_per_subject = 53\n",
    "total_edges = 24352016\n",
    "edges_per_subject = total_edges // num_subjects\n",
    "subgraphs = extract_subgraphs(dataset.data.edge_index, dataset.data.edge_attr, num_subjects, num_nodes_per_subject, edges_per_subject)\n",
    "\n",
    "# Check the first subgraph\n",
    "print(subgraphs[0])"
   ]
  },
  {
   "cell_type": "code",
   "execution_count": 49,
   "metadata": {},
   "outputs": [
    {
     "data": {
      "text/plain": [
       "torch.Size([53, 53])"
      ]
     },
     "execution_count": 49,
     "metadata": {},
     "output_type": "execute_result"
    }
   ],
   "source": [
    "reshape_dataset[6209].shape"
   ]
  },
  {
   "cell_type": "code",
   "execution_count": 50,
   "metadata": {},
   "outputs": [
    {
     "data": {
      "text/plain": [
       "torch.Size([2809, 1])"
      ]
     },
     "execution_count": 50,
     "metadata": {},
     "output_type": "execute_result"
    }
   ],
   "source": [
    "subgraphs[0].edge_attr.shape\n"
   ]
  },
  {
   "cell_type": "code",
   "execution_count": 51,
   "metadata": {},
   "outputs": [],
   "source": [
    "import dgl\n",
    "import numpy as np\n",
    "import torch\n",
    "\n",
    "# Create a list of DGLGraph objects\n",
    "graphs = []\n",
    "for i in range(num_subjects):\n",
    "    # Replace with your actual data\n",
    "    x = reshape_dataset[i]\n",
    "    edge_index = subgraphs[i].edge_index\n",
    "    edge_attr = subgraphs[i].edge_attr\n",
    "\n",
    "    # Convert edge_attr to a numpy array and flatten it\n",
    "    edge_attr_np = edge_attr.numpy().flatten()  # Convert to numpy array and flatten\n",
    "    \n",
    "    # Ensure edge_attr_np has at least one element\n",
    "    if len(edge_attr_np) == 0:\n",
    "        raise ValueError(\"edge_attr_np is empty. Check your edge_attr data.\")\n",
    "    \n",
    "    # Compute the threshold for the top 30% of edge attributes\n",
    "    threshold = np.percentile(edge_attr_np, 70)  # 70th percentile for top 30%\n",
    "    \n",
    "    # Select edges where edge_attr is in the top 30%\n",
    "    mask = edge_attr_np >= threshold\n",
    "    mask = torch.tensor(mask)  # Convert mask to a PyTorch tensor\n",
    "    \n",
    "    # Filter edge_index and edge_attr using the mask\n",
    "    filtered_edge_index = edge_index[:, mask]\n",
    "    filtered_edge_attr = edge_attr[mask]\n",
    "    \n",
    "    # Create the DGL graph with the filtered edges\n",
    "    g = dgl.graph((filtered_edge_index[0], filtered_edge_index[1]))\n",
    "    # g = dgl.add_self_loop(g)\n",
    "    g.ndata['x'] = x\n",
    "    g.edata['edge_attr'] = np.abs(filtered_edge_attr)\n",
    "    g.ndata['pos'] = reshape_pos[i]\n",
    "    # g.graph_attr['label'] = dataset.data.y[i]\n",
    "    # print(i)\n",
    "    graphs.append(g)\n"
   ]
  },
  {
   "cell_type": "code",
   "execution_count": 52,
   "metadata": {},
   "outputs": [
    {
     "data": {
      "text/plain": [
       "8836"
      ]
     },
     "execution_count": 52,
     "metadata": {},
     "output_type": "execute_result"
    }
   ],
   "source": [
    "len(graphs)"
   ]
  },
  {
   "cell_type": "code",
   "execution_count": 57,
   "metadata": {},
   "outputs": [
    {
     "data": {
      "text/plain": [
       "torch.Size([843, 1])"
      ]
     },
     "execution_count": 57,
     "metadata": {},
     "output_type": "execute_result"
    }
   ],
   "source": [
    "graphs[0].edata['edge_attr'].shape"
   ]
  },
  {
   "cell_type": "code",
   "execution_count": 58,
   "metadata": {},
   "outputs": [
    {
     "name": "stderr",
     "output_type": "stream",
     "text": [
      "/home/users/bthapaliya1/miniconda3/envs/pytorch/lib/python3.9/site-packages/torch_geometric/data/in_memory_dataset.py:300: UserWarning: It is not recommended to directly access the internal storage format `data` of an 'InMemoryDataset'. If you are absolutely certain what you are doing, access the internal storage via `InMemoryDataset._data` instead to suppress this warning. Alternatively, you can access stacked individual attributes of every graph via `dataset.{attr_name}`.\n",
      "  warnings.warn(msg)\n"
     ]
    },
    {
     "data": {
      "text/plain": [
       "torch.Size([8836, 1])"
      ]
     },
     "execution_count": 58,
     "metadata": {},
     "output_type": "execute_result"
    }
   ],
   "source": [
    "dataset.data.y.shape"
   ]
  },
  {
   "cell_type": "code",
   "execution_count": 59,
   "metadata": {},
   "outputs": [],
   "source": [
    "torch.save(graphs, \"abcd_graphs_crystallized_sparse_30_positive.pt\" )"
   ]
  },
  {
   "cell_type": "code",
   "execution_count": 60,
   "metadata": {},
   "outputs": [],
   "source": [
    "torch.save(dataset.data.y, \"abcd_graphs_crystallized_labels.pt\" )"
   ]
  },
  {
   "cell_type": "code",
   "execution_count": null,
   "metadata": {},
   "outputs": [],
   "source": []
  }
 ],
 "metadata": {
  "kernelspec": {
   "display_name": "pytorch",
   "language": "python",
   "name": "python3"
  },
  "language_info": {
   "codemirror_mode": {
    "name": "ipython",
    "version": 3
   },
   "file_extension": ".py",
   "mimetype": "text/x-python",
   "name": "python",
   "nbconvert_exporter": "python",
   "pygments_lexer": "ipython3",
   "version": "3.9.0"
  }
 },
 "nbformat": 4,
 "nbformat_minor": 2
}
